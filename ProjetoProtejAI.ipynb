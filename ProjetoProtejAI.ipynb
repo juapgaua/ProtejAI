{
  "nbformat": 4,
  "nbformat_minor": 0,
  "metadata": {
    "colab": {
      "provenance": [],
      "authorship_tag": "ABX9TyNy5OW6I2wugVfJFF7++WyN",
      "include_colab_link": true
    },
    "kernelspec": {
      "name": "python3",
      "display_name": "Python 3"
    },
    "language_info": {
      "name": "python"
    }
  },
  "cells": [
    {
      "cell_type": "markdown",
      "metadata": {
        "id": "view-in-github",
        "colab_type": "text"
      },
      "source": [
        "<a href=\"https://colab.research.google.com/github/juapgaua/ProtejAI/blob/main/ProjetoProtejAI.ipynb\" target=\"_parent\"><img src=\"https://colab.research.google.com/assets/colab-badge.svg\" alt=\"Open In Colab\"/></a>"
      ]
    },
    {
      "cell_type": "code",
      "source": [
        "!pip install -q -U google-generativeai PyPDF2"
      ],
      "metadata": {
        "id": "txZfjdQzUGcr"
      },
      "execution_count": null,
      "outputs": []
    },
    {
      "cell_type": "code",
      "execution_count": null,
      "metadata": {
        "id": "W-LTwT9HTyiN"
      },
      "outputs": [],
      "source": [
        "import google.generativeai as genai\n",
        "from google.colab import userdata\n",
        "from PyPDF2 import PdfReader\n",
        "import textwrap\n",
        "from IPython.display import display\n",
        "from IPython.display import Markdown"
      ]
    },
    {
      "cell_type": "code",
      "source": [
        "# Configuração da API\n",
        "try:\n",
        "  api_key = userdata.get('SECRET_KEY')\n",
        "  genai.configure(api_key=api_key)\n",
        "except Exception as e:\n",
        "  print(f\"Erro ao configurar a API: {e}\")\n",
        "  exit()\n"
      ],
      "metadata": {
        "id": "1nedIgeET7A6"
      },
      "execution_count": null,
      "outputs": []
    },
    {
      "cell_type": "code",
      "source": [
        "# Carregando o modelo Gemini\n",
        "model = genai.GenerativeModel('gemini-pro')"
      ],
      "metadata": {
        "id": "V4yNkf--UQDV"
      },
      "execution_count": null,
      "outputs": []
    },
    {
      "cell_type": "code",
      "source": [
        "# Função para formatar a saída como Markdown\n",
        "def to_markdown(text):\n",
        "    text = text.replace('.', '.\\n')\n",
        "    return Markdown(textwrap.indent(text, '>', predicate=lambda x: True))"
      ],
      "metadata": {
        "id": "GGoNzm4gUZLl"
      },
      "execution_count": null,
      "outputs": []
    },
    {
      "cell_type": "code",
      "source": [
        "# Função para extrair texto de um arquivo PDF\n",
        "def extract_text_from_pdf(file_path):\n",
        "    reader = PdfReader(file_path)\n",
        "    text = \"\"\n",
        "    for page in reader.pages:\n",
        "        text += page.extract_text()\n",
        "    return text"
      ],
      "metadata": {
        "id": "vfN4SCXdUnzn"
      },
      "execution_count": null,
      "outputs": []
    },
    {
      "cell_type": "code",
      "source": [
        "# Função para avaliar um aspecto da política de privacidade\n",
        "def evaluate_aspect(aspect, policy_text):\n",
        "    prompt = f\"\"\"\n",
        "    Você é um especialista em LGPD.\n",
        "    Com base na política de privacidade fornecida, avalie o seguinte aspecto em relação à conformidade com a LGPD: {aspect}\n",
        "\n",
        "    Política de Privacidade:\n",
        "    {policy_text}\n",
        "\n",
        "    Seja conciso e objetivo em sua análise.\n",
        "    \"\"\"\n",
        "    response = model.generate_content(prompt)\n",
        "    return response.text.strip()"
      ],
      "metadata": {
        "id": "undHhLnPUs4E"
      },
      "execution_count": null,
      "outputs": []
    },
    {
      "cell_type": "code",
      "source": [
        "# Loop principal do chatbot\n",
        "chat = model.start_chat(history=[])\n",
        "print(\"Chatbot LGPD iniciado! Vamos analisar sua política de privacidade.\")\n",
        "print('-------------------------------------------------------------')\n",
        "\n",
        "# Obtém a política de privacidade do usuário\n",
        "input_method = input(\"Digite 'texto' para digitar a política ou 'arquivo' para anexar um PDF: \")\n",
        "if input_method.lower() == 'texto':\n",
        "    policy_text = input(\"Digite a política de privacidade: \")\n",
        "elif input_method.lower() == 'arquivo':\n",
        "    file_path = input(\"Digite o caminho do arquivo PDF: \")\n",
        "    try:\n",
        "        policy_text = extract_text_from_pdf(file_path)\n",
        "    except Exception as e:\n",
        "        print(f\"Erro ao ler o arquivo PDF: {e}\")\n",
        "        exit()\n",
        "else:\n",
        "    print(\"Método de entrada inválido.\")\n",
        "    exit()\n",
        "\n",
        "# Aspectos a serem avaliados\n",
        "aspectos = [\n",
        "    \"Finalidade da coleta de dados\",\n",
        "    \"Base legal para o tratamento de dados\",\n",
        "    \"Direitos dos titulares dos dados\",\n",
        "    \"Medidas de segurança\",\n",
        "    \"Transferência internacional de dados\"\n",
        "]\n",
        "\n",
        "# Avalia cada aspecto da política\n",
        "for aspect in aspectos:\n",
        "    print(f\"**Avaliando: {aspect}**\")\n",
        "    analysis = evaluate_aspect(aspect, policy_text)\n",
        "    print('Resposta:\\n', analysis, '\\n')\n",
        "    print('-------------------------------------------------------------')"
      ],
      "metadata": {
        "id": "hSbsPZoqUy3D"
      },
      "execution_count": null,
      "outputs": []
    },
    {
      "cell_type": "code",
      "source": [],
      "metadata": {
        "id": "fuVU7mEiU4Lz"
      },
      "execution_count": null,
      "outputs": []
    }
  ]
}