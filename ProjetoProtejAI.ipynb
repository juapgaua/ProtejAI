{
  "nbformat": 4,
  "nbformat_minor": 0,
  "metadata": {
    "colab": {
      "provenance": [],
      "authorship_tag": "ABX9TyNy5OW6I2wugVfJFF7++WyN",
      "include_colab_link": true
    },
    "kernelspec": {
      "name": "python3",
      "display_name": "Python 3"
    },
    "language_info": {
      "name": "python"
    }
  },
  "cells": [
    {
      "cell_type": "markdown",
      "metadata": {
        "id": "view-in-github",
        "colab_type": "text"
      },
      "source": [
        "<a href=\"https://colab.research.google.com/github/juapgaua/ProtejAI/blob/main/ProjetoProtejAI.ipynb\" target=\"_parent\"><img src=\"https://colab.research.google.com/assets/colab-badge.svg\" alt=\"Open In Colab\"/></a>"
      ]
    },
    {
      "cell_type": "code",
      "source": [
        "!pip install -q -U google-generativeai PyPDF2"
      ],
      "metadata": {
        "colab": {
          "base_uri": "https://localhost:8080/"
        },
        "id": "txZfjdQzUGcr",
        "outputId": "1f5b92f6-002e-42d6-f2e2-a730d60a186d"
      },
      "execution_count": null,
      "outputs": [
        {
          "output_type": "stream",
          "name": "stdout",
          "text": [
            "\u001b[?25l     \u001b[90m━━━━━━━━━━━━━━━━━━━━━━━━━━━━━━━━━━━━━━━━\u001b[0m \u001b[32m0.0/232.6 kB\u001b[0m \u001b[31m?\u001b[0m eta \u001b[36m-:--:--\u001b[0m\r\u001b[2K     \u001b[91m━━━━━━━━━━━━━━━━━━━━━━━━━━━━━━━━━\u001b[0m\u001b[90m╺\u001b[0m\u001b[90m━━━━━━\u001b[0m \u001b[32m194.6/232.6 kB\u001b[0m \u001b[31m5.7 MB/s\u001b[0m eta \u001b[36m0:00:01\u001b[0m\r\u001b[2K     \u001b[90m━━━━━━━━━━━━━━━━━━━━━━━━━━━━━━━━━━━━━━━━\u001b[0m \u001b[32m232.6/232.6 kB\u001b[0m \u001b[31m4.8 MB/s\u001b[0m eta \u001b[36m0:00:00\u001b[0m\n",
            "\u001b[?25h"
          ]
        }
      ]
    },
    {
      "cell_type": "code",
      "execution_count": null,
      "metadata": {
        "id": "W-LTwT9HTyiN"
      },
      "outputs": [],
      "source": [
        "import google.generativeai as genai\n",
        "from google.colab import userdata\n",
        "from PyPDF2 import PdfReader\n",
        "import textwrap\n",
        "from IPython.display import display\n",
        "from IPython.display import Markdown"
      ]
    },
    {
      "cell_type": "code",
      "source": [
        "# Configuração da API\n",
        "try:\n",
        "  api_key = userdata.get('SECRET_KEY')\n",
        "  genai.configure(api_key=api_key)\n",
        "except Exception as e:\n",
        "  print(f\"Erro ao configurar a API: {e}\")\n",
        "  exit()\n"
      ],
      "metadata": {
        "id": "1nedIgeET7A6"
      },
      "execution_count": null,
      "outputs": []
    },
    {
      "cell_type": "code",
      "source": [
        "# Carregando o modelo Gemini\n",
        "model = genai.GenerativeModel('gemini-pro')"
      ],
      "metadata": {
        "id": "V4yNkf--UQDV"
      },
      "execution_count": null,
      "outputs": []
    },
    {
      "cell_type": "code",
      "source": [
        "# Função para formatar a saída como Markdown\n",
        "def to_markdown(text):\n",
        "    text = text.replace('.', '.\\n')\n",
        "    return Markdown(textwrap.indent(text, '>', predicate=lambda x: True))"
      ],
      "metadata": {
        "id": "GGoNzm4gUZLl"
      },
      "execution_count": null,
      "outputs": []
    },
    {
      "cell_type": "code",
      "source": [
        "# Função para extrair texto de um arquivo PDF\n",
        "def extract_text_from_pdf(file_path):\n",
        "    reader = PdfReader(file_path)\n",
        "    text = \"\"\n",
        "    for page in reader.pages:\n",
        "        text += page.extract_text()\n",
        "    return text"
      ],
      "metadata": {
        "id": "vfN4SCXdUnzn"
      },
      "execution_count": null,
      "outputs": []
    },
    {
      "cell_type": "code",
      "source": [
        "# Função para avaliar um aspecto da política de privacidade\n",
        "def evaluate_aspect(aspect, policy_text):\n",
        "    prompt = f\"\"\"\n",
        "    Você é um especialista em LGPD.\n",
        "    Com base na política de privacidade fornecida, avalie o seguinte aspecto em relação à conformidade com a LGPD: {aspect}\n",
        "\n",
        "    Política de Privacidade:\n",
        "    {policy_text}\n",
        "\n",
        "    Seja conciso e objetivo em sua análise.\n",
        "    \"\"\"\n",
        "    response = model.generate_content(prompt)\n",
        "    return response.text.strip()"
      ],
      "metadata": {
        "id": "undHhLnPUs4E"
      },
      "execution_count": null,
      "outputs": []
    },
    {
      "cell_type": "code",
      "source": [
        "# Loop principal do chatbot\n",
        "chat = model.start_chat(history=[])\n",
        "print(\"Chatbot LGPD iniciado! Vamos analisar sua política de privacidade.\")\n",
        "print('-------------------------------------------------------------')\n",
        "\n",
        "# Obtém a política de privacidade do usuário\n",
        "input_method = input(\"Digite 'texto' para digitar a política ou 'arquivo' para anexar um PDF: \")\n",
        "if input_method.lower() == 'texto':\n",
        "    policy_text = input(\"Digite a política de privacidade: \")\n",
        "elif input_method.lower() == 'arquivo':\n",
        "    file_path = input(\"Digite o caminho do arquivo PDF: \")\n",
        "    try:\n",
        "        policy_text = extract_text_from_pdf(file_path)\n",
        "    except Exception as e:\n",
        "        print(f\"Erro ao ler o arquivo PDF: {e}\")\n",
        "        exit()\n",
        "else:\n",
        "    print(\"Método de entrada inválido.\")\n",
        "    exit()\n",
        "\n",
        "# Aspectos a serem avaliados\n",
        "aspectos = [\n",
        "    \"Finalidade da coleta de dados\",\n",
        "    \"Base legal para o tratamento de dados\",\n",
        "    \"Direitos dos titulares dos dados\",\n",
        "    \"Medidas de segurança\",\n",
        "    \"Transferência internacional de dados\"\n",
        "]\n",
        "\n",
        "# Avalia cada aspecto da política\n",
        "for aspect in aspectos:\n",
        "    print(f\"**Avaliando: {aspect}**\")\n",
        "    analysis = evaluate_aspect(aspect, policy_text)\n",
        "    print('Resposta:\\n', analysis, '\\n')\n",
        "    print('-------------------------------------------------------------')"
      ],
      "metadata": {
        "colab": {
          "base_uri": "https://localhost:8080/",
          "height": 609
        },
        "id": "hSbsPZoqUy3D",
        "outputId": "a3aef1c1-e2b9-4487-e7c7-6df3d9be6c4e"
      },
      "execution_count": null,
      "outputs": [
        {
          "output_type": "stream",
          "name": "stdout",
          "text": [
            "Chatbot LGPD iniciado! Vamos analisar sua política de privacidade.\n",
            "-------------------------------------------------------------\n",
            "Digite 'texto' para digitar a política ou 'arquivo' para anexar um PDF: texto\n",
            "Digite a política de privacidade: A presente Política de Privacidade e Proteção de Dados Pessoais (“Política”) tem como objetivo fornecer orientações sobre como gerenciar as diversas atividades e operações de tratamento de dados pessoais existentes na Fundação Getulio Vargas (FGV). Este documento faz parte do programa de compliance da FGV à Lei Geral de Proteção de Dados (Lei nº 13.709/2018 – “LGPD”) e outras leis setoriais sobre o tema. A FGV, consciente da importância e da necessidade de adequar as suas operações de tratamento de dados pessoais a uma nova e ampla regulação sobre o tema, no caso, a LGPD, aprovada em agosto de 2018, deu início, em maio de 2019, ao seu processo de conformidade à nova Lei. Nota-se que a LGPD é uma lei transversal, que perpassa diferentes agentes econômicos no Brasil, do setor privado, público e do terceiro setor; e oferece as regras e condições para que os dados pessoais possam ser utilizados nas atividades desses agentes. Considerando ainda, que, em maio de 2018, entrou em vigor a General Data Protection Regulation (Regulation EU 2016/679 – “GDPR”), e que esta possui pontos de contato com as atividades desenvolvidas pela FGV na União Europeia, foi decidido que o Programa de Conformidade da LGPD também abarcaria esta regulação. Na condução das atividades previstas em seus estatutos, a FGV realiza diversas operações de tratamento de dados pessoais buscando o melhor interesse dos titulares dos dados pessoais, e respeitando os seus direitos, podendo ser caracterizada como Controladora de Dados Pessoais, Operadora de Dados Pessoais, Controladora e Operadora de Dados Pessoais ou Co-Controladora de Dados Pessoais, de acordo com as definições da LGPD, reforçando, em todas as posições que ocupar, o seu compromisso com o cumprimento das regras de privacidade e proteção de dados pessoais aplicáveis. Essas atividades abrangem uma série de particularidades nos tratamentos de dados pessoais realizados em sua estrutura. Por exemplo, ela precisa atender às obrigações legais específicas de Instituição de Ensino Superior (IES) previstas pelo MEC e outros órgãos reguladores, as quais muitas vezes possuem sinergia com o campo da proteção de dados, como a necessidade de guarda permanente de históricos escolares, provas, entre outros documentos de registro e controle acadêmico. Além disso, a FGV é uma instituição depositária de um grande volume de dados de caráter pessoal coletados em pesquisas científicas e em sua administração, como cadastros de professores e funcionários administrativos, dentre outros. O processo de compliance regulatório que culminará no Programa de Conformidade da LGPD envolve um trabalho de interpretação da Lei para definição das obrigações legais, diagnóstico dos fatos pertinentes e relevantes para a sua aplicação e levantamento de fluxos e processos que contribuem ou não para que os fatos estejam de acordo com o documento legal.\n",
            "**Avaliando: Finalidade da coleta de dados**\n",
            "Resposta:\n",
            " **Finalidade da Coleta de Dados**\n",
            "\n",
            "**Conformidade com a LGPD:** Não avaliada na política de privacidade fornecida. \n",
            "\n",
            "-------------------------------------------------------------\n",
            "**Avaliando: Base legal para o tratamento de dados**\n",
            "Resposta:\n",
            " A política de privacidade não menciona explicitamente as bases legais para o tratamento de dados exigidas pela LGPD. \n",
            "\n",
            "-------------------------------------------------------------\n",
            "**Avaliando: Direitos dos titulares dos dados**\n",
            "Resposta:\n",
            " A política de privacidade menciona os direitos dos titulares dos dados de forma geral, mas não fornece informações específicas sobre esses direitos. Portanto, é difícil avaliar se a política está em conformidade com a LGPD em relação aos direitos dos titulares dos dados. \n",
            "\n",
            "-------------------------------------------------------------\n",
            "**Avaliando: Medidas de segurança**\n",
            "Resposta:\n",
            " O texto fornecido não aborda as medidas de segurança implementadas pela FGV, o que impede uma avaliação sobre a conformidade com a LGPD neste aspecto. \n",
            "\n",
            "-------------------------------------------------------------\n",
            "**Avaliando: Transferência internacional de dados**\n",
            "Resposta:\n",
            " A política de privacidade fornecida não aborda especificamente a transferência internacional de dados. Portanto, não é possível avaliar a conformidade da política com a LGPD em relação a esse aspecto. \n",
            "\n",
            "-------------------------------------------------------------\n"
          ]
        }
      ]
    },
    {
      "cell_type": "code",
      "source": [],
      "metadata": {
        "id": "fuVU7mEiU4Lz"
      },
      "execution_count": null,
      "outputs": []
    }
  ]
}